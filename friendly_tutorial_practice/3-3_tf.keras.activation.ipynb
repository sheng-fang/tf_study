{
 "cells": [
  {
   "cell_type": "markdown",
   "metadata": {},
   "source": [
    "# tf.keras.activation\n",
    "\n",
    "The activation function gives the network the capacity to realize nonlinear job. \n",
    "\n",
    "Popular activation function:\n",
    "    1. sigmoid\n",
    "    2. tanh\n",
    "    3. relu\n",
    "    4. leaky relu\n",
    "    5. parametric relu\n",
    "    6. swish\n",
    "    7. gelu\n",
    "    \n",
    "    \n",
    "Please google for details of each activation"
   ]
  },
  {
   "cell_type": "code",
   "execution_count": null,
   "metadata": {},
   "outputs": [],
   "source": []
  }
 ],
 "metadata": {
  "kernelspec": {
   "display_name": "Python 3",
   "language": "python",
   "name": "python3"
  },
  "language_info": {
   "codemirror_mode": {
    "name": "ipython",
    "version": 3
   },
   "file_extension": ".py",
   "mimetype": "text/x-python",
   "name": "python",
   "nbconvert_exporter": "python",
   "pygments_lexer": "ipython3",
   "version": "3.6.6"
  }
 },
 "nbformat": 4,
 "nbformat_minor": 2
}
