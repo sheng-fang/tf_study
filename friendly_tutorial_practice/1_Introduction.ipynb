{
 "cells": [
  {
   "cell_type": "markdown",
   "metadata": {},
   "source": [
    "Tensorflow an open source library developped by Google Brain. It uses data flow grapsh, where the nodes are the operations and edges represent the data/tensor.\n",
    "\n",
    "#### The 3 key concepts:\n",
    "1. Tensor - data structure\n",
    "2. Graph\n",
    "3. Automatic differentiation\n",
    "\n",
    "\n",
    "#### There are 3 levels of API in Tensorflow lib.\n",
    "1. Low level API: Basic operation on Tensor, similar to numpy\n",
    "2. Middle level API: tf.keras.layers, tf.keras.losses, tf.keras.Dataset, etc.\n",
    "3. High level API: tf.keras models\n",
    "\n",
    "\n",
    "We will learn most the important concepts and functions in this tutorial. There are 3 parts corresponding to the 3 levels' API. \n",
    "In the first part, the 3 key concepts are introduced with examples.\n",
    "In the second part, the middle leve API are explained.\n",
    "In the last part, several methods to use the high level API are detailed.\n",
    "\n",
    "\n",
    "## Content:\n",
    "### 1. Introduction\n",
    "### 2. Low level API and key concepts\n",
    "    2-1. Tensor and basic operation\n",
    "    2-2. Math operation\n",
    "    2-3. Graph and suggestions to use autograph\n",
    "    2-4. Principle of autograph\n",
    "    2-5. Autograph and tf.Module\n",
    "    2-6. Automatic differentiation\n",
    "### 3. Middle level API\n",
    "    3-1. tf.data.Dataset\n",
    "    3-2. tf.feature column\n",
    "    3-3. tf.keras.activation\n",
    "    3-4. tf.keras.layers\n",
    "    3-5. tf.keras.losses\n",
    "    3-6. tf.keras.metrics\n",
    "    3-7. tf.keras.optimizers\n",
    "    3-8. tf.keras.callbacks\n",
    "### 4. High level API\n",
    "    4-1. Methods to create model\n",
    "    4-2. Methods to train model\n",
    "    4-3. Train model with single GPU\n",
    "    4-4. Train model with multiple GPU\n",
    "    4-5. Train model with TPU\n",
    "    4-6. tensorflow-serving\n",
    "    4-7. tensorflow model with spark-scala\n",
    "    "
   ]
  },
  {
   "cell_type": "code",
   "execution_count": null,
   "metadata": {},
   "outputs": [],
   "source": []
  }
 ],
 "metadata": {
  "kernelspec": {
   "display_name": "Python 3",
   "language": "python",
   "name": "python3"
  },
  "language_info": {
   "codemirror_mode": {
    "name": "ipython",
    "version": 3
   },
   "file_extension": ".py",
   "mimetype": "text/x-python",
   "name": "python",
   "nbconvert_exporter": "python",
   "pygments_lexer": "ipython3",
   "version": "3.6.6"
  }
 },
 "nbformat": 4,
 "nbformat_minor": 2
}
