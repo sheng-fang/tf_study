{
 "cells": [
  {
   "cell_type": "markdown",
   "metadata": {},
   "source": [
    "## Tensor:\n",
    "\n",
    "All the data are represented as tensor in Tensorflow. It's similar to numpy.array in numpy.\n",
    "\n",
    "A scalar is a o dimension tensor.\n",
    "\n",
    "A vector is a 1 dimension tensor.\n",
    "\n",
    "A matrix is a 2 dimension tensor.\n",
    "\n",
    "A RGB image is a 3 dimension tensor.\n",
    "\n",
    "...\n"
   ]
  },
  {
   "cell_type": "code",
   "execution_count": 1,
   "metadata": {},
   "outputs": [],
   "source": [
    "import numpy as np\n",
    "import tensorflow as tf"
   ]
  },
  {
   "cell_type": "code",
   "execution_count": 2,
   "metadata": {},
   "outputs": [],
   "source": [
    "i = tf.constant(1)\n",
    "l = tf.constant(1,dtype = tf.int64)\n",
    "f = tf.constant(1.23)\n",
    "d = tf.constant(3.14,dtype = tf.double)\n",
    "s = tf.constant(\"hello world\")\n",
    "b = tf.constant(True)"
   ]
  },
  {
   "cell_type": "code",
   "execution_count": 4,
   "metadata": {},
   "outputs": [
    {
     "name": "stdout",
     "output_type": "stream",
     "text": [
      "tf.Tensor(1, shape=(), dtype=int32)\n",
      "tf.Tensor(1, shape=(), dtype=int64)\n",
      "tf.Tensor(1.23, shape=(), dtype=float32)\n",
      "tf.Tensor(3.14, shape=(), dtype=float64)\n",
      "tf.Tensor(b'hello world', shape=(), dtype=string)\n",
      "tf.Tensor(True, shape=(), dtype=bool)\n"
     ]
    }
   ],
   "source": [
    "## check data type in tf\n",
    "print(i)\n",
    "print(l)\n",
    "print(f)\n",
    "print(d)\n",
    "print(s)\n",
    "print(b)"
   ]
  },
  {
   "cell_type": "code",
   "execution_count": 5,
   "metadata": {},
   "outputs": [
    {
     "name": "stdout",
     "output_type": "stream",
     "text": [
      "tf.Tensor(True, shape=(), dtype=bool)\n",
      "True\n",
      "0\n"
     ]
    }
   ],
   "source": [
    "## check the dimension of a tensor\n",
    "\n",
    "scalar = tf.constant(True)\n",
    "\n",
    "print(scalar)\n",
    "print(scalar.numpy())\n",
    "print(scalar.numpy().ndim)"
   ]
  },
  {
   "cell_type": "code",
   "execution_count": 6,
   "metadata": {},
   "outputs": [
    {
     "name": "stdout",
     "output_type": "stream",
     "text": [
      "tf.Tensor(b'hello', shape=(), dtype=string)\n",
      "b'hello'\n"
     ]
    },
    {
     "ename": "AttributeError",
     "evalue": "'bytes' object has no attribute 'ndim'",
     "output_type": "error",
     "traceback": [
      "\u001b[0;31m---------------------------------------------------------------------------\u001b[0m",
      "\u001b[0;31mAttributeError\u001b[0m                            Traceback (most recent call last)",
      "\u001b[0;32m<ipython-input-6-a57a0723ee58>\u001b[0m in \u001b[0;36m<module>\u001b[0;34m\u001b[0m\n\u001b[1;32m      5\u001b[0m \u001b[0mprint\u001b[0m\u001b[0;34m(\u001b[0m\u001b[0mscalar\u001b[0m\u001b[0;34m)\u001b[0m\u001b[0;34m\u001b[0m\u001b[0m\n\u001b[1;32m      6\u001b[0m \u001b[0mprint\u001b[0m\u001b[0;34m(\u001b[0m\u001b[0mscalar\u001b[0m\u001b[0;34m.\u001b[0m\u001b[0mnumpy\u001b[0m\u001b[0;34m(\u001b[0m\u001b[0;34m)\u001b[0m\u001b[0;34m)\u001b[0m\u001b[0;34m\u001b[0m\u001b[0m\n\u001b[0;32m----> 7\u001b[0;31m \u001b[0mprint\u001b[0m\u001b[0;34m(\u001b[0m\u001b[0mscalar\u001b[0m\u001b[0;34m.\u001b[0m\u001b[0mnumpy\u001b[0m\u001b[0;34m(\u001b[0m\u001b[0;34m)\u001b[0m\u001b[0;34m.\u001b[0m\u001b[0mndim\u001b[0m\u001b[0;34m)\u001b[0m\u001b[0;34m\u001b[0m\u001b[0m\n\u001b[0m",
      "\u001b[0;31mAttributeError\u001b[0m: 'bytes' object has no attribute 'ndim'"
     ]
    }
   ],
   "source": [
    "## check the dimension of a tensor\n",
    "## string is a bytes object, without dimension\n",
    "\n",
    "scalar = tf.constant(\"hello\")\n",
    "\n",
    "print(scalar)\n",
    "print(scalar.numpy())\n",
    "print(scalar.numpy().ndim)"
   ]
  },
  {
   "cell_type": "code",
   "execution_count": 7,
   "metadata": {},
   "outputs": [
    {
     "name": "stdout",
     "output_type": "stream",
     "text": [
      "tf.Tensor(1, shape=(), dtype=int32)\n",
      "1\n"
     ]
    }
   ],
   "source": [
    "## check dimension of vector\n",
    "vector = tf.constant([1.0,2.0,3.0,4.0])\n",
    "\n",
    "print(tf.rank(vector))\n",
    "print(np.ndim(vector.numpy()))"
   ]
  },
  {
   "cell_type": "code",
   "execution_count": 8,
   "metadata": {},
   "outputs": [
    {
     "name": "stdout",
     "output_type": "stream",
     "text": [
      "2\n",
      "2\n"
     ]
    }
   ],
   "source": [
    "## check dimension of matrix\n",
    "matrix = tf.constant([[1.0,2.0],[3.0,4.0]])\n",
    "\n",
    "print(tf.rank(matrix).numpy())\n",
    "print(np.ndim(matrix))"
   ]
  },
  {
   "cell_type": "code",
   "execution_count": 9,
   "metadata": {},
   "outputs": [
    {
     "name": "stdout",
     "output_type": "stream",
     "text": [
      "tf.Tensor(\n",
      "[[[[1. 1.]\n",
      "   [2. 2.]]\n",
      "\n",
      "  [[3. 3.]\n",
      "   [4. 4.]]]\n",
      "\n",
      "\n",
      " [[[5. 5.]\n",
      "   [6. 6.]]\n",
      "\n",
      "  [[7. 7.]\n",
      "   [8. 8.]]]], shape=(2, 2, 2, 2), dtype=float32)\n",
      "tf.Tensor(4, shape=(), dtype=int32)\n"
     ]
    }
   ],
   "source": [
    "## check 4 dimension/rank tensor\n",
    "tensor4 = tf.constant([[[[1.0,1.0],[2.0,2.0]],[[3.0,3.0],[4.0,4.0]]],\n",
    "                        [[[5.0,5.0],[6.0,6.0]],[[7.0,7.0],[8.0,8.0]]]])\n",
    "print(tensor4)\n",
    "print(tf.rank(tensor4))"
   ]
  },
  {
   "cell_type": "markdown",
   "metadata": {},
   "source": [
    "#### Variable vs constant"
   ]
  },
  {
   "cell_type": "code",
   "execution_count": 10,
   "metadata": {},
   "outputs": [
    {
     "name": "stdout",
     "output_type": "stream",
     "text": [
      "tf.Tensor([1. 2.], shape=(2,), dtype=float32)\n",
      "5229011184\n",
      "tf.Tensor([2. 3.], shape=(2,), dtype=float32)\n",
      "5169440136\n"
     ]
    }
   ],
   "source": [
    "## value of tf.constant can't be changed\n",
    "c = tf.constant([1.0,2.0])\n",
    "print(c)\n",
    "print(id(c))\n",
    "c = c + tf.constant([1.0,1.0])\n",
    "print(c)\n",
    "print(id(c))"
   ]
  },
  {
   "cell_type": "code",
   "execution_count": 12,
   "metadata": {},
   "outputs": [
    {
     "name": "stdout",
     "output_type": "stream",
     "text": [
      "<tf.Variable 'v:0' shape=(2,) dtype=float32, numpy=array([1., 2.], dtype=float32)>\n",
      "4596289152\n",
      "<tf.Variable 'v:0' shape=(2,) dtype=float32, numpy=array([2., 3.], dtype=float32)>\n",
      "4596289152\n"
     ]
    }
   ],
   "source": [
    "## value of tf.Variable can be changed by assign and assign_add function\n",
    "v = tf.Variable([1.0,2.0],name = \"v\")\n",
    "print(v)\n",
    "print(id(v))\n",
    "v.assign_add([1.0,1.0])\n",
    "print(v)\n",
    "print(id(v))"
   ]
  },
  {
   "cell_type": "markdown",
   "metadata": {},
   "source": [
    "## Basic operation"
   ]
  },
  {
   "cell_type": "markdown",
   "metadata": {},
   "source": [
    "### 1. Create a tensor"
   ]
  },
  {
   "cell_type": "code",
   "execution_count": 13,
   "metadata": {},
   "outputs": [
    {
     "data": {
      "text/plain": [
       "<tf.Tensor: shape=(3,), dtype=float32, numpy=array([1., 2., 3.], dtype=float32)>"
      ]
     },
     "execution_count": 13,
     "metadata": {},
     "output_type": "execute_result"
    }
   ],
   "source": [
    "tf.constant([1,2,3], dtype=tf.float32)"
   ]
  },
  {
   "cell_type": "code",
   "execution_count": 14,
   "metadata": {},
   "outputs": [
    {
     "data": {
      "text/plain": [
       "<tf.Tensor: shape=(5,), dtype=int32, numpy=array([1, 3, 5, 7, 9], dtype=int32)>"
      ]
     },
     "execution_count": 14,
     "metadata": {},
     "output_type": "execute_result"
    }
   ],
   "source": [
    "tf.range(1, 10, delta = 2)"
   ]
  },
  {
   "cell_type": "code",
   "execution_count": 15,
   "metadata": {},
   "outputs": [
    {
     "data": {
      "text/plain": [
       "<tf.Tensor: shape=(100,), dtype=float32, numpy=\n",
       "array([0.        , 0.06343435, 0.1268687 , 0.19030304, 0.2537374 ,\n",
       "       0.31717175, 0.38060609, 0.44404042, 0.5074748 , 0.57090914,\n",
       "       0.6343435 , 0.6977778 , 0.76121217, 0.82464653, 0.88808084,\n",
       "       0.9515152 , 1.0149496 , 1.0783839 , 1.1418183 , 1.2052526 ,\n",
       "       1.268687  , 1.3321213 , 1.3955556 , 1.45899   , 1.5224243 ,\n",
       "       1.5858587 , 1.6492931 , 1.7127274 , 1.7761617 , 1.839596  ,\n",
       "       1.9030304 , 1.9664648 , 2.0298991 , 2.0933335 , 2.1567678 ,\n",
       "       2.2202022 , 2.2836366 , 2.347071  , 2.4105053 , 2.4739397 ,\n",
       "       2.537374  , 2.6008081 , 2.6642425 , 2.7276769 , 2.7911112 ,\n",
       "       2.8545456 , 2.91798   , 2.9814143 , 3.0448487 , 3.108283  ,\n",
       "       3.1717174 , 3.2351518 , 3.2985861 , 3.3620205 , 3.4254549 ,\n",
       "       3.4888892 , 3.5523233 , 3.6157577 , 3.679192  , 3.7426264 ,\n",
       "       3.8060608 , 3.8694952 , 3.9329295 , 3.9963639 , 4.0597982 ,\n",
       "       4.1232324 , 4.186667  , 4.250101  , 4.3135357 , 4.37697   ,\n",
       "       4.4404044 , 4.5038385 , 4.567273  , 4.6307073 , 4.694142  ,\n",
       "       4.757576  , 4.8210106 , 4.8844447 , 4.9478793 , 5.0113134 ,\n",
       "       5.074748  , 5.138182  , 5.2016163 , 5.265051  , 5.328485  ,\n",
       "       5.3919196 , 5.4553537 , 5.5187883 , 5.5822225 , 5.645657  ,\n",
       "       5.709091  , 5.772526  , 5.83596   , 5.8993945 , 5.9628286 ,\n",
       "       6.026263  , 6.0896974 , 6.1531315 , 6.216566  , 6.28      ],\n",
       "      dtype=float32)>"
      ]
     },
     "execution_count": 15,
     "metadata": {},
     "output_type": "execute_result"
    }
   ],
   "source": [
    "tf.linspace(0.0, 2*3.14, 100)"
   ]
  },
  {
   "cell_type": "code",
   "execution_count": 16,
   "metadata": {},
   "outputs": [
    {
     "data": {
      "text/plain": [
       "<tf.Tensor: shape=(3, 3), dtype=float32, numpy=\n",
       "array([[0., 0., 0.],\n",
       "       [0., 0., 0.],\n",
       "       [0., 0., 0.]], dtype=float32)>"
      ]
     },
     "execution_count": 16,
     "metadata": {},
     "output_type": "execute_result"
    }
   ],
   "source": [
    "tf.zeros([3,3])"
   ]
  },
  {
   "cell_type": "code",
   "execution_count": 17,
   "metadata": {},
   "outputs": [
    {
     "data": {
      "text/plain": [
       "<tf.Tensor: shape=(3,), dtype=float32, numpy=array([0., 0., 0.], dtype=float32)>"
      ]
     },
     "execution_count": 17,
     "metadata": {},
     "output_type": "execute_result"
    }
   ],
   "source": [
    "tf.zeros(3)"
   ]
  },
  {
   "cell_type": "code",
   "execution_count": 18,
   "metadata": {},
   "outputs": [
    {
     "data": {
      "text/plain": [
       "<tf.Tensor: shape=(5, 5), dtype=float32, numpy=\n",
       "array([[1., 0., 0., 0., 0.],\n",
       "       [0., 1., 0., 0., 0.],\n",
       "       [0., 0., 1., 0., 0.],\n",
       "       [0., 0., 0., 1., 0.],\n",
       "       [0., 0., 0., 0., 1.]], dtype=float32)>"
      ]
     },
     "execution_count": 18,
     "metadata": {},
     "output_type": "execute_result"
    }
   ],
   "source": [
    "tf.eye(5)"
   ]
  },
  {
   "cell_type": "code",
   "execution_count": 19,
   "metadata": {},
   "outputs": [
    {
     "data": {
      "text/plain": [
       "<tf.Tensor: shape=(3, 3), dtype=float32, numpy=\n",
       "array([[1., 1., 1.],\n",
       "       [1., 1., 1.],\n",
       "       [1., 1., 1.]], dtype=float32)>"
      ]
     },
     "execution_count": 19,
     "metadata": {},
     "output_type": "execute_result"
    }
   ],
   "source": [
    "tf.ones([3, 3])"
   ]
  },
  {
   "cell_type": "code",
   "execution_count": 20,
   "metadata": {},
   "outputs": [
    {
     "data": {
      "text/plain": [
       "<tf.Tensor: shape=(3, 3), dtype=float32, numpy=\n",
       "array([[0., 0., 0.],\n",
       "       [0., 0., 0.],\n",
       "       [0., 0., 0.]], dtype=float32)>"
      ]
     },
     "execution_count": 20,
     "metadata": {},
     "output_type": "execute_result"
    }
   ],
   "source": [
    "tf.zeros_like(tf.ones([3, 3]))"
   ]
  },
  {
   "cell_type": "code",
   "execution_count": 21,
   "metadata": {},
   "outputs": [
    {
     "data": {
      "text/plain": [
       "<tf.Tensor: shape=(4, 3), dtype=int32, numpy=\n",
       "array([[2020, 2020, 2020],\n",
       "       [2020, 2020, 2020],\n",
       "       [2020, 2020, 2020],\n",
       "       [2020, 2020, 2020]], dtype=int32)>"
      ]
     },
     "execution_count": 21,
     "metadata": {},
     "output_type": "execute_result"
    }
   ],
   "source": [
    "tf.fill([4, 3], 2020)"
   ]
  },
  {
   "cell_type": "code",
   "execution_count": 22,
   "metadata": {},
   "outputs": [
    {
     "data": {
      "text/plain": [
       "<tf.Tensor: shape=(5,), dtype=float32, numpy=\n",
       "array([26.256483, 84.28469 , 10.603668, 42.72337 , 67.596275],\n",
       "      dtype=float32)>"
      ]
     },
     "execution_count": 22,
     "metadata": {},
     "output_type": "execute_result"
    }
   ],
   "source": [
    "tf.random.uniform([5], minval=10, maxval=100)"
   ]
  },
  {
   "cell_type": "code",
   "execution_count": 23,
   "metadata": {},
   "outputs": [
    {
     "data": {
      "text/plain": [
       "<tf.Tensor: shape=(4, 3), dtype=float32, numpy=\n",
       "array([[11.657225 ,  9.213058 ,  9.692511 ],\n",
       "       [ 8.578913 ,  7.5506835,  7.3791475],\n",
       "       [13.595366 , 13.110031 , 10.09085  ],\n",
       "       [ 9.001906 ,  6.7269964, 10.214141 ]], dtype=float32)>"
      ]
     },
     "execution_count": 23,
     "metadata": {},
     "output_type": "execute_result"
    }
   ],
   "source": [
    "tf.random.normal([4, 3], mean=10, stddev=2)"
   ]
  },
  {
   "cell_type": "code",
   "execution_count": 25,
   "metadata": {},
   "outputs": [
    {
     "data": {
      "text/plain": [
       "<tf.Tensor: shape=(6, 6), dtype=int32, numpy=\n",
       "array([[1, 0, 0, 0, 0, 0],\n",
       "       [0, 2, 0, 0, 0, 0],\n",
       "       [0, 0, 3, 0, 0, 0],\n",
       "       [0, 0, 0, 4, 0, 0],\n",
       "       [0, 0, 0, 0, 5, 0],\n",
       "       [0, 0, 0, 0, 0, 6]], dtype=int32)>"
      ]
     },
     "execution_count": 25,
     "metadata": {},
     "output_type": "execute_result"
    }
   ],
   "source": [
    "tf.linalg.diag([1,2,3,4,5,6])"
   ]
  },
  {
   "cell_type": "markdown",
   "metadata": {},
   "source": [
    "### 2. Tensor indexing"
   ]
  },
  {
   "cell_type": "code",
   "execution_count": 26,
   "metadata": {},
   "outputs": [],
   "source": [
    "test = tf.random.uniform([5, 5], minval=0, maxval=10, dtype=tf.int32)"
   ]
  },
  {
   "cell_type": "code",
   "execution_count": 27,
   "metadata": {},
   "outputs": [
    {
     "data": {
      "text/plain": [
       "<tf.Tensor: shape=(5, 5), dtype=int32, numpy=\n",
       "array([[0, 7, 2, 7, 4],\n",
       "       [1, 9, 8, 1, 0],\n",
       "       [4, 7, 0, 6, 3],\n",
       "       [9, 3, 0, 2, 9],\n",
       "       [2, 3, 9, 5, 1]], dtype=int32)>"
      ]
     },
     "execution_count": 27,
     "metadata": {},
     "output_type": "execute_result"
    }
   ],
   "source": [
    "test"
   ]
  },
  {
   "cell_type": "code",
   "execution_count": 28,
   "metadata": {},
   "outputs": [
    {
     "name": "stdout",
     "output_type": "stream",
     "text": [
      "[0 7 2 7 4]\n"
     ]
    }
   ],
   "source": [
    "## first row\n",
    "tf.print(test[0])"
   ]
  },
  {
   "cell_type": "code",
   "execution_count": 29,
   "metadata": {},
   "outputs": [
    {
     "name": "stdout",
     "output_type": "stream",
     "text": [
      "2\n"
     ]
    }
   ],
   "source": [
    "## element in first row and third column\n",
    "tf.print(test[0][2])"
   ]
  },
  {
   "cell_type": "code",
   "execution_count": 30,
   "metadata": {},
   "outputs": [
    {
     "name": "stdout",
     "output_type": "stream",
     "text": [
      "4\n"
     ]
    }
   ],
   "source": [
    "## element in first row and last column\n",
    "tf.print(test[0][-1])"
   ]
  },
  {
   "cell_type": "code",
   "execution_count": 32,
   "metadata": {},
   "outputs": [
    {
     "name": "stdout",
     "output_type": "stream",
     "text": [
      "[[1 9 8 1 0]\n",
      " [4 7 0 6 3]\n",
      " [9 3 0 2 9]]\n"
     ]
    }
   ],
   "source": [
    "## elements from second line to fifth line and all columns\n",
    "tf.print(test[1:4, :])"
   ]
  },
  {
   "cell_type": "code",
   "execution_count": 33,
   "metadata": {},
   "outputs": [
    {
     "name": "stdout",
     "output_type": "stream",
     "text": [
      "[[0 2 4]\n",
      " [4 0 3]\n",
      " [2 9 1]]\n"
     ]
    }
   ],
   "source": [
    "## elements in every 2 rows and every 2 columns from top-left\n",
    "tf.print(test[::2, ::2])"
   ]
  },
  {
   "cell_type": "code",
   "execution_count": 34,
   "metadata": {},
   "outputs": [
    {
     "name": "stdout",
     "output_type": "stream",
     "text": [
      "[[0 7]\n",
      " [9 2]]\n"
     ]
    }
   ],
   "source": [
    "tf.print(test[::3, ::3])"
   ]
  },
  {
   "cell_type": "markdown",
   "metadata": {},
   "source": [
    "#### Index assign for variable"
   ]
  },
  {
   "cell_type": "code",
   "execution_count": 35,
   "metadata": {},
   "outputs": [],
   "source": [
    "var = tf.Variable([[1,2,3],[4,5,6],[7,8,9]])"
   ]
  },
  {
   "cell_type": "code",
   "execution_count": 36,
   "metadata": {},
   "outputs": [
    {
     "data": {
      "text/plain": [
       "<tf.Variable 'Variable:0' shape=(3, 3) dtype=int32, numpy=\n",
       "array([[1, 2, 3],\n",
       "       [4, 5, 6],\n",
       "       [7, 8, 9]], dtype=int32)>"
      ]
     },
     "execution_count": 36,
     "metadata": {},
     "output_type": "execute_result"
    }
   ],
   "source": [
    "var"
   ]
  },
  {
   "cell_type": "code",
   "execution_count": 44,
   "metadata": {},
   "outputs": [
    {
     "data": {
      "text/plain": [
       "<tf.Variable 'UnreadVariable' shape=(3, 3) dtype=int32, numpy=\n",
       "array([[ 1000,     2, 10000],\n",
       "       [    4,     5,     6],\n",
       "       [ 1000,     8, 10000]], dtype=int32)>"
      ]
     },
     "execution_count": 44,
     "metadata": {},
     "output_type": "execute_result"
    }
   ],
   "source": [
    "var[::2, ::2].assign(tf.constant([[1000, 10000], [1000, 10000]]))"
   ]
  },
  {
   "cell_type": "markdown",
   "metadata": {},
   "source": [
    "#### Slicing for tensor"
   ]
  },
  {
   "cell_type": "code",
   "execution_count": 45,
   "metadata": {},
   "outputs": [
    {
     "data": {
      "text/plain": [
       "<tf.Tensor: shape=(4, 10, 7), dtype=int32, numpy=\n",
       "array([[[65,  7, 34,  6, 52, 57, 57],\n",
       "        [91, 85, 45, 12, 54, 86, 84],\n",
       "        [25, 57, 74, 76, 66, 21,  1],\n",
       "        [54, 99, 85, 47, 76, 67, 66],\n",
       "        [23, 26, 22, 54, 40, 26, 36],\n",
       "        [28,  5, 18, 60, 95, 52, 16],\n",
       "        [ 3, 53, 39, 42, 82, 13, 67],\n",
       "        [49, 57, 53, 97, 24, 77, 62],\n",
       "        [19, 69, 87, 71, 99, 84, 25],\n",
       "        [72, 44, 86, 80, 79, 93, 43]],\n",
       "\n",
       "       [[24,  8, 33, 58, 31, 88, 40],\n",
       "        [18, 95, 88, 31, 36, 12, 31],\n",
       "        [67,  6, 15, 69, 87, 15,  4],\n",
       "        [18, 18, 56, 11, 32,  9, 31],\n",
       "        [92, 90, 45, 56, 10, 26, 98],\n",
       "        [64, 58, 97, 43,  3,  9, 82],\n",
       "        [13, 89, 17, 65, 20, 56, 72],\n",
       "        [54,  6, 67, 82, 55, 86, 42],\n",
       "        [77, 28, 61, 57,  7, 81,  9],\n",
       "        [33, 35, 65,  6, 51, 17, 86]],\n",
       "\n",
       "       [[ 8, 79, 18, 37, 71, 72, 84],\n",
       "        [ 7, 32, 17, 31, 50, 90, 31],\n",
       "        [11, 22, 85, 28, 77, 18, 71],\n",
       "        [24, 92, 35, 96, 21, 87, 59],\n",
       "        [89, 21,  1, 50, 44, 29, 99],\n",
       "        [88, 97, 23, 42, 99, 41, 85],\n",
       "        [34, 75, 19, 78, 57, 31, 32],\n",
       "        [77, 56, 95, 44,  0, 35, 56],\n",
       "        [15, 16, 98, 96, 71, 21, 80],\n",
       "        [88,  6,  1, 53, 39, 92, 89]],\n",
       "\n",
       "       [[41, 75, 89, 63, 94, 92, 29],\n",
       "        [91, 66,  7, 73, 82, 85, 15],\n",
       "        [29, 81, 50, 41, 49, 83, 60],\n",
       "        [60, 97, 63, 41, 81, 96, 23],\n",
       "        [85, 25, 73,  9, 67, 48, 51],\n",
       "        [79, 64,  2, 62, 15, 82, 52],\n",
       "        [22, 37, 32, 92, 31, 15, 63],\n",
       "        [70, 53, 11,  5, 68, 67, 13],\n",
       "        [68, 69, 12, 92,  1, 75, 44],\n",
       "        [81, 40, 36, 81, 26,  5,  8]]], dtype=int32)>"
      ]
     },
     "execution_count": 45,
     "metadata": {},
     "output_type": "execute_result"
    }
   ],
   "source": [
    "## suppose we have 4 classes and 10 students in one class. The scores for their 7 courses are stored in a tensor\n",
    "scores = tf.random.uniform((4,10,7),minval=0,maxval=100,dtype=tf.int32)\n",
    "scores"
   ]
  },
  {
   "cell_type": "code",
   "execution_count": 48,
   "metadata": {},
   "outputs": [
    {
     "data": {
      "text/plain": [
       "<tf.Tensor: shape=(4, 2, 7), dtype=int32, numpy=\n",
       "array([[[65,  7, 34,  6, 52, 57, 57],\n",
       "        [72, 44, 86, 80, 79, 93, 43]],\n",
       "\n",
       "       [[24,  8, 33, 58, 31, 88, 40],\n",
       "        [33, 35, 65,  6, 51, 17, 86]],\n",
       "\n",
       "       [[ 8, 79, 18, 37, 71, 72, 84],\n",
       "        [88,  6,  1, 53, 39, 92, 89]],\n",
       "\n",
       "       [[41, 75, 89, 63, 94, 92, 29],\n",
       "        [81, 40, 36, 81, 26,  5,  8]]], dtype=int32)>"
      ]
     },
     "execution_count": 48,
     "metadata": {},
     "output_type": "execute_result"
    }
   ],
   "source": [
    "# get the scores of first student and last student in every class\n",
    "tf.gather(scores, [0, 9], axis=1)"
   ]
  },
  {
   "cell_type": "code",
   "execution_count": 51,
   "metadata": {},
   "outputs": [
    {
     "data": {
      "text/plain": [
       "<tf.Tensor: shape=(4, 2, 2), dtype=int32, numpy=\n",
       "array([[[65, 57],\n",
       "        [72, 43]],\n",
       "\n",
       "       [[24, 40],\n",
       "        [33, 86]],\n",
       "\n",
       "       [[ 8, 84],\n",
       "        [88, 89]],\n",
       "\n",
       "       [[41, 29],\n",
       "        [81,  8]]], dtype=int32)>"
      ]
     },
     "execution_count": 51,
     "metadata": {},
     "output_type": "execute_result"
    }
   ],
   "source": [
    "# get the scores of the first and last courses of the first and last student in every class\n",
    "tf.gather(tf.gather(scores, [0, 9], axis=1), [0, 6], axis=2)"
   ]
  },
  {
   "cell_type": "markdown",
   "metadata": {},
   "source": [
    "Other frequently used functions:\n",
    "tf.scatter, tf.where, tf.boolean_mast, etc."
   ]
  },
  {
   "cell_type": "markdown",
   "metadata": {},
   "source": [
    "### 3. Change the dimension of tensor\n",
    "\n",
    "tf.reshape\n",
    "\n",
    "tf.squeeze\n",
    "\n",
    "tf.expand_dims\n",
    "\n",
    "tf.transpose"
   ]
  },
  {
   "cell_type": "code",
   "execution_count": 52,
   "metadata": {},
   "outputs": [
    {
     "name": "stdout",
     "output_type": "stream",
     "text": [
      "TensorShape([1, 3, 3, 2])\n",
      "[[[[184 229]\n",
      "   [236 188]\n",
      "   [115 78]]\n",
      "\n",
      "  [[35 251]\n",
      "   [125 36]\n",
      "   [10 62]]\n",
      "\n",
      "  [[185 85]\n",
      "   [182 80]\n",
      "   [236 239]]]]\n"
     ]
    }
   ],
   "source": [
    "a = tf.random.uniform(shape=[1,3,3,2],\n",
    "                      minval=0,maxval=255,dtype=tf.int32)\n",
    "tf.print(a.shape)\n",
    "tf.print(a)"
   ]
  },
  {
   "cell_type": "code",
   "execution_count": 53,
   "metadata": {},
   "outputs": [
    {
     "data": {
      "text/plain": [
       "<tf.Tensor: shape=(3, 6), dtype=int32, numpy=\n",
       "array([[184, 229, 236, 188, 115,  78],\n",
       "       [ 35, 251, 125,  36,  10,  62],\n",
       "       [185,  85, 182,  80, 236, 239]], dtype=int32)>"
      ]
     },
     "execution_count": 53,
     "metadata": {},
     "output_type": "execute_result"
    }
   ],
   "source": [
    "tf.reshape(a,[3,6])"
   ]
  },
  {
   "cell_type": "code",
   "execution_count": 54,
   "metadata": {},
   "outputs": [
    {
     "data": {
      "text/plain": [
       "<tf.Tensor: shape=(3, 3, 2), dtype=int32, numpy=\n",
       "array([[[184, 229],\n",
       "        [236, 188],\n",
       "        [115,  78]],\n",
       "\n",
       "       [[ 35, 251],\n",
       "        [125,  36],\n",
       "        [ 10,  62]],\n",
       "\n",
       "       [[185,  85],\n",
       "        [182,  80],\n",
       "        [236, 239]]], dtype=int32)>"
      ]
     },
     "execution_count": 54,
     "metadata": {},
     "output_type": "execute_result"
    }
   ],
   "source": [
    "tf.squeeze(a)"
   ]
  },
  {
   "cell_type": "code",
   "execution_count": 56,
   "metadata": {},
   "outputs": [
    {
     "data": {
      "text/plain": [
       "<tf.Tensor: shape=(1, 3, 3, 2, 1), dtype=int32, numpy=\n",
       "array([[[[[184],\n",
       "          [229]],\n",
       "\n",
       "         [[236],\n",
       "          [188]],\n",
       "\n",
       "         [[115],\n",
       "          [ 78]]],\n",
       "\n",
       "\n",
       "        [[[ 35],\n",
       "          [251]],\n",
       "\n",
       "         [[125],\n",
       "          [ 36]],\n",
       "\n",
       "         [[ 10],\n",
       "          [ 62]]],\n",
       "\n",
       "\n",
       "        [[[185],\n",
       "          [ 85]],\n",
       "\n",
       "         [[182],\n",
       "          [ 80]],\n",
       "\n",
       "         [[236],\n",
       "          [239]]]]], dtype=int32)>"
      ]
     },
     "execution_count": 56,
     "metadata": {},
     "output_type": "execute_result"
    }
   ],
   "source": [
    "tf.expand_dims(a, axis=-1) "
   ]
  },
  {
   "cell_type": "markdown",
   "metadata": {},
   "source": [
    "The operation tf.reshape, tf.expand_dims, tf.squeeze change only the logic dimension. How the data stored in the memory is not changed. So the 3 operation is very fast. However, the tf.tranpose changes the data store order and runs relatively slower."
   ]
  },
  {
   "cell_type": "markdown",
   "metadata": {},
   "source": [
    "### 4. Tensor concatenate and split\n",
    "\n",
    "Similar to numpy, we have tf.concat, tf.stack, tf.split"
   ]
  },
  {
   "cell_type": "code",
   "execution_count": 57,
   "metadata": {},
   "outputs": [
    {
     "data": {
      "text/plain": [
       "<tf.Tensor: shape=(6, 2), dtype=float32, numpy=\n",
       "array([[ 1.,  2.],\n",
       "       [ 3.,  4.],\n",
       "       [ 5.,  6.],\n",
       "       [ 7.,  8.],\n",
       "       [ 9., 10.],\n",
       "       [11., 12.]], dtype=float32)>"
      ]
     },
     "execution_count": 57,
     "metadata": {},
     "output_type": "execute_result"
    }
   ],
   "source": [
    "## tf.concat does't add new dimension\n",
    "a = tf.constant([[1.0,2.0],[3.0,4.0]])\n",
    "b = tf.constant([[5.0,6.0],[7.0,8.0]])\n",
    "c = tf.constant([[9.0,10.0],[11.0,12.0]])\n",
    "\n",
    "tf.concat([a,b,c],axis = 0)"
   ]
  },
  {
   "cell_type": "code",
   "execution_count": 58,
   "metadata": {},
   "outputs": [
    {
     "data": {
      "text/plain": [
       "<tf.Tensor: shape=(3, 2, 2), dtype=float32, numpy=\n",
       "array([[[ 1.,  2.],\n",
       "        [ 3.,  4.]],\n",
       "\n",
       "       [[ 5.,  6.],\n",
       "        [ 7.,  8.]],\n",
       "\n",
       "       [[ 9., 10.],\n",
       "        [11., 12.]]], dtype=float32)>"
      ]
     },
     "execution_count": 58,
     "metadata": {},
     "output_type": "execute_result"
    }
   ],
   "source": [
    "## tf.stack adds new dimension\n",
    "a = tf.constant([[1.0,2.0],[3.0,4.0]])\n",
    "b = tf.constant([[5.0,6.0],[7.0,8.0]])\n",
    "c = tf.constant([[9.0,10.0],[11.0,12.0]])\n",
    "\n",
    "tf.stack([a,b,c],axis = 0)"
   ]
  },
  {
   "cell_type": "code",
   "execution_count": 59,
   "metadata": {},
   "outputs": [
    {
     "ename": "InvalidArgumentError",
     "evalue": "Number of ways to split should evenly divide the split dimension, but got split_dim 0 (size = 2) and num_split 3 [Op:Split] name: split",
     "output_type": "error",
     "traceback": [
      "\u001b[0;31m---------------------------------------------------------------------------\u001b[0m",
      "\u001b[0;31mInvalidArgumentError\u001b[0m                      Traceback (most recent call last)",
      "\u001b[0;32m<ipython-input-59-4783f48f7345>\u001b[0m in \u001b[0;36m<module>\u001b[0;34m\u001b[0m\n\u001b[0;32m----> 1\u001b[0;31m \u001b[0mtf\u001b[0m\u001b[0;34m.\u001b[0m\u001b[0msplit\u001b[0m\u001b[0;34m(\u001b[0m\u001b[0mc\u001b[0m\u001b[0;34m,\u001b[0m \u001b[0;36m3\u001b[0m\u001b[0;34m,\u001b[0m \u001b[0maxis\u001b[0m \u001b[0;34m=\u001b[0m \u001b[0;36m0\u001b[0m\u001b[0;34m)\u001b[0m\u001b[0;34m\u001b[0m\u001b[0m\n\u001b[0m",
      "\u001b[0;32m~/.virtualenvs/kaggle/lib/python3.6/site-packages/tensorflow_core/python/ops/array_ops.py\u001b[0m in \u001b[0;36msplit\u001b[0;34m(value, num_or_size_splits, axis, num, name)\u001b[0m\n\u001b[1;32m   1779\u001b[0m                 six.integer_types + (tensor_shape.Dimension,)):\n\u001b[1;32m   1780\u001b[0m     return gen_array_ops.split(\n\u001b[0;32m-> 1781\u001b[0;31m         axis=axis, num_split=num_or_size_splits, value=value, name=name)\n\u001b[0m\u001b[1;32m   1782\u001b[0m \u001b[0;34m\u001b[0m\u001b[0m\n\u001b[1;32m   1783\u001b[0m   \u001b[0;32mif\u001b[0m \u001b[0msize_splits\u001b[0m\u001b[0;34m.\u001b[0m\u001b[0m_rank\u001b[0m\u001b[0;34m(\u001b[0m\u001b[0;34m)\u001b[0m \u001b[0;34m==\u001b[0m \u001b[0;36m0\u001b[0m\u001b[0;34m:\u001b[0m\u001b[0;34m\u001b[0m\u001b[0m\n",
      "\u001b[0;32m~/.virtualenvs/kaggle/lib/python3.6/site-packages/tensorflow_core/python/ops/gen_array_ops.py\u001b[0m in \u001b[0;36msplit\u001b[0;34m(axis, value, num_split, name)\u001b[0m\n\u001b[1;32m   9073\u001b[0m         \u001b[0;32mpass\u001b[0m  \u001b[0;31m# Add nodes to the TensorFlow graph.\u001b[0m\u001b[0;34m\u001b[0m\u001b[0m\n\u001b[1;32m   9074\u001b[0m     \u001b[0;32mexcept\u001b[0m \u001b[0m_core\u001b[0m\u001b[0;34m.\u001b[0m\u001b[0m_NotOkStatusException\u001b[0m \u001b[0;32mas\u001b[0m \u001b[0me\u001b[0m\u001b[0;34m:\u001b[0m\u001b[0;34m\u001b[0m\u001b[0m\n\u001b[0;32m-> 9075\u001b[0;31m       \u001b[0m_ops\u001b[0m\u001b[0;34m.\u001b[0m\u001b[0mraise_from_not_ok_status\u001b[0m\u001b[0;34m(\u001b[0m\u001b[0me\u001b[0m\u001b[0;34m,\u001b[0m \u001b[0mname\u001b[0m\u001b[0;34m)\u001b[0m\u001b[0;34m\u001b[0m\u001b[0m\n\u001b[0m\u001b[1;32m   9076\u001b[0m   \u001b[0;31m# Add nodes to the TensorFlow graph.\u001b[0m\u001b[0;34m\u001b[0m\u001b[0;34m\u001b[0m\u001b[0m\n\u001b[1;32m   9077\u001b[0m   \u001b[0mnum_split\u001b[0m \u001b[0;34m=\u001b[0m \u001b[0m_execute\u001b[0m\u001b[0;34m.\u001b[0m\u001b[0mmake_int\u001b[0m\u001b[0;34m(\u001b[0m\u001b[0mnum_split\u001b[0m\u001b[0;34m,\u001b[0m \u001b[0;34m\"num_split\"\u001b[0m\u001b[0;34m)\u001b[0m\u001b[0;34m\u001b[0m\u001b[0m\n",
      "\u001b[0;32m~/.virtualenvs/kaggle/lib/python3.6/site-packages/tensorflow_core/python/framework/ops.py\u001b[0m in \u001b[0;36mraise_from_not_ok_status\u001b[0;34m(e, name)\u001b[0m\n\u001b[1;32m   6604\u001b[0m   \u001b[0mmessage\u001b[0m \u001b[0;34m=\u001b[0m \u001b[0me\u001b[0m\u001b[0;34m.\u001b[0m\u001b[0mmessage\u001b[0m \u001b[0;34m+\u001b[0m \u001b[0;34m(\u001b[0m\u001b[0;34m\" name: \"\u001b[0m \u001b[0;34m+\u001b[0m \u001b[0mname\u001b[0m \u001b[0;32mif\u001b[0m \u001b[0mname\u001b[0m \u001b[0;32mis\u001b[0m \u001b[0;32mnot\u001b[0m \u001b[0;32mNone\u001b[0m \u001b[0;32melse\u001b[0m \u001b[0;34m\"\"\u001b[0m\u001b[0;34m)\u001b[0m\u001b[0;34m\u001b[0m\u001b[0m\n\u001b[1;32m   6605\u001b[0m   \u001b[0;31m# pylint: disable=protected-access\u001b[0m\u001b[0;34m\u001b[0m\u001b[0;34m\u001b[0m\u001b[0m\n\u001b[0;32m-> 6606\u001b[0;31m   \u001b[0msix\u001b[0m\u001b[0;34m.\u001b[0m\u001b[0mraise_from\u001b[0m\u001b[0;34m(\u001b[0m\u001b[0mcore\u001b[0m\u001b[0;34m.\u001b[0m\u001b[0m_status_to_exception\u001b[0m\u001b[0;34m(\u001b[0m\u001b[0me\u001b[0m\u001b[0;34m.\u001b[0m\u001b[0mcode\u001b[0m\u001b[0;34m,\u001b[0m \u001b[0mmessage\u001b[0m\u001b[0;34m)\u001b[0m\u001b[0;34m,\u001b[0m \u001b[0;32mNone\u001b[0m\u001b[0;34m)\u001b[0m\u001b[0;34m\u001b[0m\u001b[0m\n\u001b[0m\u001b[1;32m   6607\u001b[0m   \u001b[0;31m# pylint: enable=protected-access\u001b[0m\u001b[0;34m\u001b[0m\u001b[0;34m\u001b[0m\u001b[0m\n\u001b[1;32m   6608\u001b[0m \u001b[0;34m\u001b[0m\u001b[0m\n",
      "\u001b[0;32m~/.virtualenvs/kaggle/lib/python3.6/site-packages/six.py\u001b[0m in \u001b[0;36mraise_from\u001b[0;34m(value, from_value)\u001b[0m\n",
      "\u001b[0;31mInvalidArgumentError\u001b[0m: Number of ways to split should evenly divide the split dimension, but got split_dim 0 (size = 2) and num_split 3 [Op:Split] name: split"
     ]
    }
   ],
   "source": [
    "tf.split(c, 3, axis = 0)"
   ]
  },
  {
   "cell_type": "code",
   "execution_count": null,
   "metadata": {},
   "outputs": [],
   "source": []
  }
 ],
 "metadata": {
  "kernelspec": {
   "display_name": "Python 3",
   "language": "python",
   "name": "python3"
  },
  "language_info": {
   "codemirror_mode": {
    "name": "ipython",
    "version": 3
   },
   "file_extension": ".py",
   "mimetype": "text/x-python",
   "name": "python",
   "nbconvert_exporter": "python",
   "pygments_lexer": "ipython3",
   "version": "3.6.6"
  }
 },
 "nbformat": 4,
 "nbformat_minor": 2
}
