{
 "cells": [
  {
   "cell_type": "markdown",
   "metadata": {},
   "source": [
    "# tf.keras.callbacks\n",
    "\n",
    "tf.keras.callbacks is a powerful tool for training. The main purpose of callbacks is to do several operations, such as save model and change leraning rate, between 2 epochs.\n",
    "\n",
    "There are already several build-in callback function. If we need a custom callback function, new class can be defined by inheriting the tf.keras.callbacks.Callbacks.\n",
    "\n",
    "There are two attributes in Callbacks class: params and model. \"params\" is a dict for the training parameters. \"model\" is the reference of current model."
   ]
  },
  {
   "cell_type": "markdown",
   "metadata": {},
   "source": [
    "## 1. build-in callback function\n",
    "\n",
    "    BaseLogger: metrics on every batch, default added\n",
    "    Histroty: metrics on every epoch, default added\n",
    "    EarlyStopping:\n",
    "    TensorBoard: vis logs for Tensorboard\n",
    "    ModelCheckpoint: save model after every epoch\n",
    "    ReduceLROnPlateau: if the metrics do not change, it starts to reduce the learning rate\n",
    "    TerminateOnNaN: terminates the training if loss is NaN\n",
    "    LearningRateSceduler: control the lr after each epoch\n",
    "    CSVLogger: save log to CSV for each epoch\n",
    "    ProgbarLogger: print logs to stdout after each epoch"
   ]
  },
  {
   "cell_type": "markdown",
   "metadata": {},
   "source": [
    "## 2. custom callback function\n",
    "\n",
    "Here is the example of LearningRateScheduler.\n"
   ]
  },
  {
   "cell_type": "code",
   "execution_count": 2,
   "metadata": {},
   "outputs": [],
   "source": [
    "import tensorflow as tf\n",
    "from tensorflow.keras import layers,models,losses,metrics,callbacks\n",
    "import tensorflow.keras.backend as K\n",
    "\n",
    "class LearningRateScheduler(callbacks.Callback):\n",
    "\n",
    "    def __init__(self, schedule, verbose=0):\n",
    "        super(LearningRateScheduler, self).__init__()\n",
    "        self.schedule = schedule\n",
    "        self.verbose = verbose\n",
    "\n",
    "    def on_epoch_begin(self, epoch, logs=None):\n",
    "        if not hasattr(self.model.optimizer, 'lr'):\n",
    "            raise ValueError('Optimizer must have a \"lr\" attribute.')\n",
    "        try:  \n",
    "            lr = float(K.get_value(self.model.optimizer.lr))\n",
    "            lr = self.schedule(epoch, lr)\n",
    "        except TypeError:  # Support for old API for backward compatibility\n",
    "            lr = self.schedule(epoch)\n",
    "        if not isinstance(lr, (tf.Tensor, float, np.float32, np.float64)):\n",
    "            raise ValueError('The output of the \"schedule\" function '\n",
    "                             'should be float.')\n",
    "        if isinstance(lr, ops.Tensor) and not lr.dtype.is_floating:\n",
    "            raise ValueError('The dtype of Tensor should be float')\n",
    "        K.set_value(self.model.optimizer.lr, K.get_value(lr))\n",
    "        if self.verbose > 0:\n",
    "            print('\\nEpoch %05d: LearningRateScheduler reducing learning '\n",
    "                 'rate to %s.' % (epoch + 1, lr))\n",
    "\n",
    "    def on_epoch_end(self, epoch, logs=None):\n",
    "        logs = logs or {}\n",
    "        logs['lr'] = K.get_value(self.model.optimizer.lr)"
   ]
  }
 ],
 "metadata": {
  "kernelspec": {
   "display_name": "Python 3",
   "language": "python",
   "name": "python3"
  },
  "language_info": {
   "codemirror_mode": {
    "name": "ipython",
    "version": 3
   },
   "file_extension": ".py",
   "mimetype": "text/x-python",
   "name": "python",
   "nbconvert_exporter": "python",
   "pygments_lexer": "ipython3",
   "version": "3.6.6"
  }
 },
 "nbformat": 4,
 "nbformat_minor": 2
}
